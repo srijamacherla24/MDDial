{
 "cells": [
  {
   "cell_type": "code",
   "execution_count": 1,
   "metadata": {},
   "outputs": [],
   "source": [
    "import pandas as pd\n",
    "import os\n",
    "import numpy as np\n",
    "from sklearn.metrics import precision_recall_fscore_support\n",
    "import ast\n",
    "import warnings\n",
    "warnings.filterwarnings(\"ignore\")"
   ]
  },
  {
   "cell_type": "code",
   "execution_count": 3,
   "metadata": {},
   "outputs": [],
   "source": [
    "data_df = pd.read_pickle('data/MDD_dataset/dev.pk')\n",
    "data_df = pd.DataFrame(data_df)\n",
    "\n",
    "def get_true_sym(x):\n",
    "    y = {}\n",
    "    for i in x.keys():\n",
    "        if x[i] == True:\n",
    "            y[i] = x[i]\n",
    "    return y\n",
    "\n",
    "def get_remaining_sym(x,y):\n",
    "    z = {}\n",
    "    for i in x.keys():\n",
    "        if x[i] == False:\n",
    "            z[i] = x[i]\n",
    "    z.update(y)\n",
    "    return z\n",
    "    \n",
    "# data_df['initial_sym'] = data_df['explicit_inform_slots'].apply(lambda x: get_true_sym(x))\n",
    "# data_df['remaining_sym'] = data_df.apply(lambda x: get_remaining_sym(x['explicit_inform_slots'], x['implicit_inform_slots']), axis=1)\n",
    "# data_df.head()"
   ]
  },
  {
   "cell_type": "code",
   "execution_count": 8,
   "metadata": {},
   "outputs": [],
   "source": [
    "data_df['dialog_id'] = data_df.index + 1"
   ]
  },
  {
   "cell_type": "code",
   "execution_count": 9,
   "metadata": {},
   "outputs": [
    {
     "data": {
      "text/html": [
       "<div>\n",
       "<style scoped>\n",
       "    .dataframe tbody tr th:only-of-type {\n",
       "        vertical-align: middle;\n",
       "    }\n",
       "\n",
       "    .dataframe tbody tr th {\n",
       "        vertical-align: top;\n",
       "    }\n",
       "\n",
       "    .dataframe thead th {\n",
       "        text-align: right;\n",
       "    }\n",
       "</style>\n",
       "<table border=\"1\" class=\"dataframe\">\n",
       "  <thead>\n",
       "    <tr style=\"text-align: right;\">\n",
       "      <th></th>\n",
       "      <th>explicit_inform_slots</th>\n",
       "      <th>implicit_inform_slots</th>\n",
       "      <th>disease_tag</th>\n",
       "      <th>dialog_id</th>\n",
       "    </tr>\n",
       "  </thead>\n",
       "  <tbody>\n",
       "    <tr>\n",
       "      <th>0</th>\n",
       "      <td>{'Burning sensation behind the breastbone': True}</td>\n",
       "      <td>{'Nausea': False, 'Acid reflux': False, 'Stoma...</td>\n",
       "      <td>Esophagitis</td>\n",
       "      <td>1</td>\n",
       "    </tr>\n",
       "    <tr>\n",
       "      <th>1</th>\n",
       "      <td>{'Chest tightness': True}</td>\n",
       "      <td>{'Expectoration': True, 'Bloating': True, 'Aci...</td>\n",
       "      <td>Esophagitis</td>\n",
       "      <td>2</td>\n",
       "    </tr>\n",
       "    <tr>\n",
       "      <th>2</th>\n",
       "      <td>{'Nausea': True, 'Diarrhea': True}</td>\n",
       "      <td>{'Hematemesis': False}</td>\n",
       "      <td>Esophagitis</td>\n",
       "      <td>3</td>\n",
       "    </tr>\n",
       "    <tr>\n",
       "      <th>3</th>\n",
       "      <td>{'Chest tightness': True, 'Stomach ache': False}</td>\n",
       "      <td>{'Fever': False, 'Cough': False, 'Pain behind ...</td>\n",
       "      <td>Esophagitis</td>\n",
       "      <td>4</td>\n",
       "    </tr>\n",
       "    <tr>\n",
       "      <th>4</th>\n",
       "      <td>{'Chest tightness': True}</td>\n",
       "      <td>{'Pain behind the breastbone': True, 'Diarrhea...</td>\n",
       "      <td>Esophagitis</td>\n",
       "      <td>5</td>\n",
       "    </tr>\n",
       "    <tr>\n",
       "      <th>...</th>\n",
       "      <td>...</td>\n",
       "      <td>...</td>\n",
       "      <td>...</td>\n",
       "      <td>...</td>\n",
       "    </tr>\n",
       "    <tr>\n",
       "      <th>234</th>\n",
       "      <td>{'Body aches': True}</td>\n",
       "      <td>{'Breast tenderness': True, 'Fever': True, 'Fe...</td>\n",
       "      <td>Mastitis</td>\n",
       "      <td>235</td>\n",
       "    </tr>\n",
       "    <tr>\n",
       "      <th>235</th>\n",
       "      <td>{'Fever': True, 'Breast tenderness': True}</td>\n",
       "      <td>{'Pain behind the breastbone': False}</td>\n",
       "      <td>Mastitis</td>\n",
       "      <td>236</td>\n",
       "    </tr>\n",
       "    <tr>\n",
       "      <th>236</th>\n",
       "      <td>{'Fever': True, 'Stomach ache': True}</td>\n",
       "      <td>{'Redness': True}</td>\n",
       "      <td>Mastitis</td>\n",
       "      <td>237</td>\n",
       "    </tr>\n",
       "    <tr>\n",
       "      <th>237</th>\n",
       "      <td>{'Breast tenderness': True, 'Fear of cold': Fa...</td>\n",
       "      <td>{'Chest tightness and shortness of breath': Fa...</td>\n",
       "      <td>Mastitis</td>\n",
       "      <td>238</td>\n",
       "    </tr>\n",
       "    <tr>\n",
       "      <th>238</th>\n",
       "      <td>{'Breast tenderness': True, 'Headache': True, ...</td>\n",
       "      <td>{'Fever': False}</td>\n",
       "      <td>Mastitis</td>\n",
       "      <td>239</td>\n",
       "    </tr>\n",
       "  </tbody>\n",
       "</table>\n",
       "<p>239 rows × 4 columns</p>\n",
       "</div>"
      ],
      "text/plain": [
       "                                 explicit_inform_slots  \\\n",
       "0    {'Burning sensation behind the breastbone': True}   \n",
       "1                            {'Chest tightness': True}   \n",
       "2                   {'Nausea': True, 'Diarrhea': True}   \n",
       "3     {'Chest tightness': True, 'Stomach ache': False}   \n",
       "4                            {'Chest tightness': True}   \n",
       "..                                                 ...   \n",
       "234                               {'Body aches': True}   \n",
       "235         {'Fever': True, 'Breast tenderness': True}   \n",
       "236              {'Fever': True, 'Stomach ache': True}   \n",
       "237  {'Breast tenderness': True, 'Fear of cold': Fa...   \n",
       "238  {'Breast tenderness': True, 'Headache': True, ...   \n",
       "\n",
       "                                 implicit_inform_slots  disease_tag  dialog_id  \n",
       "0    {'Nausea': False, 'Acid reflux': False, 'Stoma...  Esophagitis          1  \n",
       "1    {'Expectoration': True, 'Bloating': True, 'Aci...  Esophagitis          2  \n",
       "2                               {'Hematemesis': False}  Esophagitis          3  \n",
       "3    {'Fever': False, 'Cough': False, 'Pain behind ...  Esophagitis          4  \n",
       "4    {'Pain behind the breastbone': True, 'Diarrhea...  Esophagitis          5  \n",
       "..                                                 ...          ...        ...  \n",
       "234  {'Breast tenderness': True, 'Fever': True, 'Fe...     Mastitis        235  \n",
       "235              {'Pain behind the breastbone': False}     Mastitis        236  \n",
       "236                                  {'Redness': True}     Mastitis        237  \n",
       "237  {'Chest tightness and shortness of breath': Fa...     Mastitis        238  \n",
       "238                                   {'Fever': False}     Mastitis        239  \n",
       "\n",
       "[239 rows x 4 columns]"
      ]
     },
     "execution_count": 9,
     "metadata": {},
     "output_type": "execute_result"
    }
   ],
   "source": [
    "data_df"
   ]
  },
  {
   "cell_type": "code",
   "execution_count": 10,
   "metadata": {},
   "outputs": [],
   "source": [
    "data_df = pd.read_csv('data/test_gpt2_combined_C.csv')\n",
    "data_df = data_df.drop(columns=['input','output']).drop_duplicates()"
   ]
  },
  {
   "cell_type": "code",
   "execution_count": 11,
   "metadata": {},
   "outputs": [],
   "source": [
    "data_df['remaining_sym'] = data_df['remaining_sym'].apply(lambda x: ast.literal_eval(x))"
   ]
  },
  {
   "cell_type": "code",
   "execution_count": 12,
   "metadata": {},
   "outputs": [],
   "source": [
    "# Calculating final scores\n",
    "\n",
    "def get_weighted_symscore(sym_score, sen_score, orig_sen_score, diagnosis):\n",
    "    if sen_score < 10:\n",
    "        return sym_score*min(sen_score-1, orig_sen_score)/max(sen_score-1, orig_sen_score)\n",
    "    elif diagnosis == 'No':\n",
    "        return sym_score*min(sen_score-1, orig_sen_score)/max(sen_score-1, orig_sen_score)\n",
    "    else:\n",
    "        return sym_score*min(sen_score, orig_sen_score)/max(sen_score, orig_sen_score)\n",
    "        \n",
    "def get_sym_score(sym_score, sen_score, diagnosis):\n",
    "    if (sen_score == 10 and diagnosis == 'No'):\n",
    "        return sym_score/sen_score\n",
    "    elif sen_score == 1:\n",
    "        return 0\n",
    "    else:\n",
    "        return sym_score/(sen_score-1)\n",
    "    \n",
    "        \n",
    "def get_final_scores(path_to_results, path_to_output, thresh=0):\n",
    "    res_df = pd.read_csv(path_to_results)\n",
    "    res_df = res_df.merge(data_df[['remaining_sym', 'disease_tag', 'dialog_id']], on = 'dialog_id')\n",
    "    \n",
    "    res_df['sentence_score'] = res_df['dialog_id'].groupby(res_df['dialog_id']).transform('count')\n",
    "    \n",
    "        \n",
    "    res_df['avg_diag_sym_score'] = res_df.groupby(res_df['dialog_id'])['dialog_sym_score'].transform('sum')\n",
    "    res_df['avg_diag_sym_score'] = res_df.apply(lambda x: x['avg_diag_sym_score']/len(x['remaining_sym']), axis=1)\n",
    "    \n",
    "    res_df['sym_score'] = res_df['score'].groupby(res_df['dialog_id']).transform('sum')\n",
    "    res_df['sym_score'] = res_df.apply(lambda x: get_sym_score(x['sym_score'], x['sentence_score'], x['diagnosis']), axis=1)\n",
    "    res_df['sym_score'] = res_df.apply(lambda x: get_weighted_symscore(x['sym_score'], x['sentence_score'], len(x['remaining_sym']), x['diagnosis']), axis=1)\n",
    "                                                 \n",
    "    \n",
    "    res_df = res_df.drop_duplicates(subset='dialog_id', keep='last')\n",
    "    res_df['sym_thresh'] = res_df.apply(lambda x: get_thresh(x, thresh), axis=1)\n",
    "    res_df['trust_score_corrdiag'] = res_df.apply(lambda x: get_trust(x['sym_thresh'], x['diag_score']), axis=1)\n",
    "#     res_df['trust_score_incorr_diag'] = res_df.apply(lambda x: get_trust(x, 0), axis=1)\n",
    "    res_df = res_df[['dialog_id','sentence_score','sym_score','diag_score','avg_diag_sym_score','trust_score_corrdiag', 'diagnosis']]\n",
    "#     res_df.to_csv(path_to_output, index=False)\n",
    "    return res_df\n",
    "\n",
    "def get_thresh(row, thresh):\n",
    "    if row['sym_score'] > thresh:\n",
    "        return 1\n",
    "    else:\n",
    "        return 0\n",
    "    \n",
    "def get_trust(sym_thresh, diag_score):\n",
    "    if sym_thresh == diag_score:\n",
    "        if diag_score == 1:\n",
    "            return 1\n",
    "        else:\n",
    "            return 0\n",
    "    else:\n",
    "        return 0"
   ]
  },
  {
   "cell_type": "markdown",
   "metadata": {},
   "source": [
    "## Means"
   ]
  },
  {
   "cell_type": "code",
   "execution_count": 44,
   "metadata": {},
   "outputs": [
    {
     "name": "stdout",
     "output_type": "stream",
     "text": [
      "\n",
      " ********** MedDialog GPT2 **********\n",
      "mean_diag_score 0.387943\n",
      "mean_sym_score 0.283528\n",
      "avg_diag_sym_score 0.290384\n",
      "avg sentence score: 7.137589\n",
      "trust_score_correct_diagnosis: 0.324823\n",
      "recall 0.204343\n",
      "f1 0.290108\n",
      "\n",
      " ********** MedDialog DialoGPT **********\n",
      "mean_diag_score 0.119149\n",
      "mean_sym_score 0.103645\n",
      "avg_diag_sym_score 0.176173\n",
      "avg sentence score: 8.895745\n",
      "trust_score_correct_diagnosis: 0.063121\n",
      "recall 0.107014\n",
      "f1 0.176286\n"
     ]
    }
   ],
   "source": [
    "model_evals = {\n",
    "    'MedDialog GPT2':'eval_gpt2_comb_v',\n",
    "    'MedDialog DialoGPT':'eval_dgpt_comb_v'\n",
    "}\n",
    "for j in model_evals:\n",
    "    print('\\n','*'*10, j, '*'*10)\n",
    "    dmean = 0\n",
    "    smean = 0\n",
    "    tmean = 0\n",
    "    tinmean = 0\n",
    "    dsmean = 0\n",
    "    senmean = 0\n",
    "    recall = 0\n",
    "    f1 = 0\n",
    "    for i in range(3):\n",
    "        path_to_results = 'eval_results/eval_1018_C/'+ model_evals[j] +str(i)+'.csv'\n",
    "        path_to_output =  'eval_results/eval_1018_C/analysis/'+ model_evals[j] +str(i)+'_weighted.csv'\n",
    "        \n",
    "        df_res = pd.read_csv(path_to_results)\n",
    "        a,b,c,d = precision_recall_fscore_support([1]*len(df_res),df_res['score'], average='macro')\n",
    "        recall += b\n",
    "        f1 += c\n",
    "        \n",
    "        df = get_final_scores(path_to_results, path_to_output)\n",
    "#         print(df.mean())\n",
    "        dmean += df.mean()['diag_score']\n",
    "        smean += df.mean()['sym_score']\n",
    "        dsmean += df.mean()['avg_diag_sym_score']\n",
    "        senmean += df.mean()['sentence_score']\n",
    "        tmean += df.mean()['trust_score_corrdiag']\n",
    "\n",
    "    \n",
    "    print('mean_diag_score', round(dmean/3,6))\n",
    "    print('mean_sym_score', round(smean/3,6))\n",
    "    print('avg_diag_sym_score', round(dsmean/3,6))\n",
    "    print('avg sentence score:', round(senmean/3,6))\n",
    "    print('trust_score_correct_diagnosis:', round(tmean/3,6))\n",
    "    print('recall', round( recall/3,6))\n",
    "    print('f1', round(f1/3,6))"
   ]
  },
  {
   "cell_type": "markdown",
   "metadata": {},
   "source": [
    "## Out of domain template testing"
   ]
  },
  {
   "cell_type": "code",
   "execution_count": 45,
   "metadata": {},
   "outputs": [
    {
     "name": "stdout",
     "output_type": "stream",
     "text": [
      "\n",
      " ********** MedDialog GPT2 **********\n",
      "mean_diag_score 0.370213\n",
      "mean_sym_score 0.252065\n",
      "avg_diag_sym_score 0.29725\n",
      "avg sentence score: 7.293617\n",
      "trust_score_correct_diagnosis: 0.287943\n",
      "recall 0.202232\n",
      "f1 0.287979\n",
      "\n",
      " ********** MedDialog DialoGPT **********\n",
      "mean_diag_score 0.11773\n",
      "mean_sym_score 0.104034\n",
      "avg_diag_sym_score 0.171457\n",
      "avg sentence score: 8.950355\n",
      "trust_score_correct_diagnosis: 0.058156\n",
      "recall 0.108315\n",
      "f1 0.178037\n"
     ]
    }
   ],
   "source": [
    "model_evals = {\n",
    "    'MedDialog GPT2':'eval_gpt2_mihir_v',\n",
    "    'MedDialog DialoGPT':'eval_dgpt_mihir_v'\n",
    "}\n",
    "for j in model_evals:\n",
    "    print('\\n','*'*10, j, '*'*10)\n",
    "    dmean = 0\n",
    "    smean = 0\n",
    "    tmean = 0\n",
    "    tinmean = 0\n",
    "    dsmean = 0\n",
    "    senmean = 0\n",
    "    recall = 0\n",
    "    f1 = 0\n",
    "    for i in range(3):\n",
    "        path_to_results = 'eval_results/eval_1018_C/'+ model_evals[j] +str(i)+'.csv'\n",
    "        path_to_output =  'eval_results/eval_1018_C/analysis/'+ model_evals[j] +str(i)+'_weighted.csv'\n",
    "        \n",
    "        df_res = pd.read_csv(path_to_results)\n",
    "        a,b,c,d = precision_recall_fscore_support([1]*len(df_res),df_res['score'], average='macro')\n",
    "        recall += b\n",
    "        f1 += c\n",
    "        \n",
    "        df = get_final_scores(path_to_results, path_to_output)\n",
    "#         print(df.mean())\n",
    "        dmean += df.mean()['diag_score']\n",
    "        smean += df.mean()['sym_score']\n",
    "        dsmean += df.mean()['avg_diag_sym_score']\n",
    "        senmean += df.mean()['sentence_score']\n",
    "        tmean += df.mean()['trust_score_corrdiag']\n",
    "\n",
    "    \n",
    "    print('mean_diag_score', round(dmean/3,6))\n",
    "    print('mean_sym_score', round(smean/3,6))\n",
    "    print('avg_diag_sym_score', round(dsmean/3,6))\n",
    "    print('avg sentence score:', round(senmean/3,6))\n",
    "    print('trust_score_correct_diagnosis:', round(tmean/3,6))\n",
    "    print('recall', round( recall/3,6))\n",
    "    print('f1', round(f1/3,6))"
   ]
  },
  {
   "cell_type": "code",
   "execution_count": 10,
   "metadata": {},
   "outputs": [
    {
     "name": "stdout",
     "output_type": "stream",
     "text": [
      "\n",
      " ********** MedDialog GPT2 **********\n"
     ]
    },
    {
     "name": "stderr",
     "output_type": "stream",
     "text": [
      "/packages/7x/anaconda3/5.3.0/lib/python3.7/site-packages/sklearn/metrics/_classification.py:1318: UndefinedMetricWarning: Recall and F-score are ill-defined and being set to 0.0 in labels with no true samples. Use `zero_division` parameter to control this behavior.\n",
      "  _warn_prf(average, modifier, msg_start, len(result))\n",
      "/packages/7x/anaconda3/5.3.0/lib/python3.7/site-packages/ipykernel_launcher.py:29: FutureWarning: Dropping of nuisance columns in DataFrame reductions (with 'numeric_only=None') is deprecated; in a future version this will raise TypeError.  Select only valid columns before calling the reduction.\n",
      "/packages/7x/anaconda3/5.3.0/lib/python3.7/site-packages/ipykernel_launcher.py:30: FutureWarning: Dropping of nuisance columns in DataFrame reductions (with 'numeric_only=None') is deprecated; in a future version this will raise TypeError.  Select only valid columns before calling the reduction.\n",
      "/packages/7x/anaconda3/5.3.0/lib/python3.7/site-packages/ipykernel_launcher.py:31: FutureWarning: Dropping of nuisance columns in DataFrame reductions (with 'numeric_only=None') is deprecated; in a future version this will raise TypeError.  Select only valid columns before calling the reduction.\n",
      "/packages/7x/anaconda3/5.3.0/lib/python3.7/site-packages/ipykernel_launcher.py:32: FutureWarning: Dropping of nuisance columns in DataFrame reductions (with 'numeric_only=None') is deprecated; in a future version this will raise TypeError.  Select only valid columns before calling the reduction.\n",
      "/packages/7x/anaconda3/5.3.0/lib/python3.7/site-packages/ipykernel_launcher.py:33: FutureWarning: Dropping of nuisance columns in DataFrame reductions (with 'numeric_only=None') is deprecated; in a future version this will raise TypeError.  Select only valid columns before calling the reduction.\n",
      "/packages/7x/anaconda3/5.3.0/lib/python3.7/site-packages/sklearn/metrics/_classification.py:1318: UndefinedMetricWarning: Recall and F-score are ill-defined and being set to 0.0 in labels with no true samples. Use `zero_division` parameter to control this behavior.\n",
      "  _warn_prf(average, modifier, msg_start, len(result))\n",
      "/packages/7x/anaconda3/5.3.0/lib/python3.7/site-packages/ipykernel_launcher.py:29: FutureWarning: Dropping of nuisance columns in DataFrame reductions (with 'numeric_only=None') is deprecated; in a future version this will raise TypeError.  Select only valid columns before calling the reduction.\n",
      "/packages/7x/anaconda3/5.3.0/lib/python3.7/site-packages/ipykernel_launcher.py:30: FutureWarning: Dropping of nuisance columns in DataFrame reductions (with 'numeric_only=None') is deprecated; in a future version this will raise TypeError.  Select only valid columns before calling the reduction.\n",
      "/packages/7x/anaconda3/5.3.0/lib/python3.7/site-packages/ipykernel_launcher.py:31: FutureWarning: Dropping of nuisance columns in DataFrame reductions (with 'numeric_only=None') is deprecated; in a future version this will raise TypeError.  Select only valid columns before calling the reduction.\n",
      "/packages/7x/anaconda3/5.3.0/lib/python3.7/site-packages/ipykernel_launcher.py:32: FutureWarning: Dropping of nuisance columns in DataFrame reductions (with 'numeric_only=None') is deprecated; in a future version this will raise TypeError.  Select only valid columns before calling the reduction.\n",
      "/packages/7x/anaconda3/5.3.0/lib/python3.7/site-packages/ipykernel_launcher.py:33: FutureWarning: Dropping of nuisance columns in DataFrame reductions (with 'numeric_only=None') is deprecated; in a future version this will raise TypeError.  Select only valid columns before calling the reduction.\n",
      "/packages/7x/anaconda3/5.3.0/lib/python3.7/site-packages/sklearn/metrics/_classification.py:1318: UndefinedMetricWarning: Recall and F-score are ill-defined and being set to 0.0 in labels with no true samples. Use `zero_division` parameter to control this behavior.\n",
      "  _warn_prf(average, modifier, msg_start, len(result))\n",
      "/packages/7x/anaconda3/5.3.0/lib/python3.7/site-packages/ipykernel_launcher.py:29: FutureWarning: Dropping of nuisance columns in DataFrame reductions (with 'numeric_only=None') is deprecated; in a future version this will raise TypeError.  Select only valid columns before calling the reduction.\n",
      "/packages/7x/anaconda3/5.3.0/lib/python3.7/site-packages/ipykernel_launcher.py:30: FutureWarning: Dropping of nuisance columns in DataFrame reductions (with 'numeric_only=None') is deprecated; in a future version this will raise TypeError.  Select only valid columns before calling the reduction.\n",
      "/packages/7x/anaconda3/5.3.0/lib/python3.7/site-packages/ipykernel_launcher.py:31: FutureWarning: Dropping of nuisance columns in DataFrame reductions (with 'numeric_only=None') is deprecated; in a future version this will raise TypeError.  Select only valid columns before calling the reduction.\n",
      "/packages/7x/anaconda3/5.3.0/lib/python3.7/site-packages/ipykernel_launcher.py:32: FutureWarning: Dropping of nuisance columns in DataFrame reductions (with 'numeric_only=None') is deprecated; in a future version this will raise TypeError.  Select only valid columns before calling the reduction.\n",
      "/packages/7x/anaconda3/5.3.0/lib/python3.7/site-packages/ipykernel_launcher.py:33: FutureWarning: Dropping of nuisance columns in DataFrame reductions (with 'numeric_only=None') is deprecated; in a future version this will raise TypeError.  Select only valid columns before calling the reduction.\n"
     ]
    },
    {
     "name": "stdout",
     "output_type": "stream",
     "text": [
      "mean_diag_score 0.286525\n",
      "mean_sym_score 0.262135\n",
      "avg_diag_sym_score 0.288812\n",
      "avg sentence score: 7.635461\n",
      "trust_score_correct_diagnosis: 0.22695\n",
      "recall 0.219877\n",
      "f1 0.305428\n",
      "\n",
      " ********** MedDialog DialoGPT **********\n"
     ]
    },
    {
     "name": "stderr",
     "output_type": "stream",
     "text": [
      "/packages/7x/anaconda3/5.3.0/lib/python3.7/site-packages/sklearn/metrics/_classification.py:1318: UndefinedMetricWarning: Recall and F-score are ill-defined and being set to 0.0 in labels with no true samples. Use `zero_division` parameter to control this behavior.\n",
      "  _warn_prf(average, modifier, msg_start, len(result))\n",
      "/packages/7x/anaconda3/5.3.0/lib/python3.7/site-packages/ipykernel_launcher.py:29: FutureWarning: Dropping of nuisance columns in DataFrame reductions (with 'numeric_only=None') is deprecated; in a future version this will raise TypeError.  Select only valid columns before calling the reduction.\n",
      "/packages/7x/anaconda3/5.3.0/lib/python3.7/site-packages/ipykernel_launcher.py:30: FutureWarning: Dropping of nuisance columns in DataFrame reductions (with 'numeric_only=None') is deprecated; in a future version this will raise TypeError.  Select only valid columns before calling the reduction.\n",
      "/packages/7x/anaconda3/5.3.0/lib/python3.7/site-packages/ipykernel_launcher.py:31: FutureWarning: Dropping of nuisance columns in DataFrame reductions (with 'numeric_only=None') is deprecated; in a future version this will raise TypeError.  Select only valid columns before calling the reduction.\n",
      "/packages/7x/anaconda3/5.3.0/lib/python3.7/site-packages/ipykernel_launcher.py:32: FutureWarning: Dropping of nuisance columns in DataFrame reductions (with 'numeric_only=None') is deprecated; in a future version this will raise TypeError.  Select only valid columns before calling the reduction.\n",
      "/packages/7x/anaconda3/5.3.0/lib/python3.7/site-packages/ipykernel_launcher.py:33: FutureWarning: Dropping of nuisance columns in DataFrame reductions (with 'numeric_only=None') is deprecated; in a future version this will raise TypeError.  Select only valid columns before calling the reduction.\n",
      "/packages/7x/anaconda3/5.3.0/lib/python3.7/site-packages/sklearn/metrics/_classification.py:1318: UndefinedMetricWarning: Recall and F-score are ill-defined and being set to 0.0 in labels with no true samples. Use `zero_division` parameter to control this behavior.\n",
      "  _warn_prf(average, modifier, msg_start, len(result))\n",
      "/packages/7x/anaconda3/5.3.0/lib/python3.7/site-packages/ipykernel_launcher.py:29: FutureWarning: Dropping of nuisance columns in DataFrame reductions (with 'numeric_only=None') is deprecated; in a future version this will raise TypeError.  Select only valid columns before calling the reduction.\n",
      "/packages/7x/anaconda3/5.3.0/lib/python3.7/site-packages/ipykernel_launcher.py:30: FutureWarning: Dropping of nuisance columns in DataFrame reductions (with 'numeric_only=None') is deprecated; in a future version this will raise TypeError.  Select only valid columns before calling the reduction.\n",
      "/packages/7x/anaconda3/5.3.0/lib/python3.7/site-packages/ipykernel_launcher.py:31: FutureWarning: Dropping of nuisance columns in DataFrame reductions (with 'numeric_only=None') is deprecated; in a future version this will raise TypeError.  Select only valid columns before calling the reduction.\n",
      "/packages/7x/anaconda3/5.3.0/lib/python3.7/site-packages/ipykernel_launcher.py:32: FutureWarning: Dropping of nuisance columns in DataFrame reductions (with 'numeric_only=None') is deprecated; in a future version this will raise TypeError.  Select only valid columns before calling the reduction.\n",
      "/packages/7x/anaconda3/5.3.0/lib/python3.7/site-packages/ipykernel_launcher.py:33: FutureWarning: Dropping of nuisance columns in DataFrame reductions (with 'numeric_only=None') is deprecated; in a future version this will raise TypeError.  Select only valid columns before calling the reduction.\n",
      "/packages/7x/anaconda3/5.3.0/lib/python3.7/site-packages/sklearn/metrics/_classification.py:1318: UndefinedMetricWarning: Recall and F-score are ill-defined and being set to 0.0 in labels with no true samples. Use `zero_division` parameter to control this behavior.\n",
      "  _warn_prf(average, modifier, msg_start, len(result))\n"
     ]
    },
    {
     "name": "stdout",
     "output_type": "stream",
     "text": [
      "mean_diag_score 0.475177\n",
      "mean_sym_score 0.309118\n",
      "avg_diag_sym_score 0.258059\n",
      "avg sentence score: 6.131915\n",
      "trust_score_correct_diagnosis: 0.429787\n",
      "recall 0.200072\n",
      "f1 0.285784\n"
     ]
    },
    {
     "name": "stderr",
     "output_type": "stream",
     "text": [
      "/packages/7x/anaconda3/5.3.0/lib/python3.7/site-packages/ipykernel_launcher.py:29: FutureWarning: Dropping of nuisance columns in DataFrame reductions (with 'numeric_only=None') is deprecated; in a future version this will raise TypeError.  Select only valid columns before calling the reduction.\n",
      "/packages/7x/anaconda3/5.3.0/lib/python3.7/site-packages/ipykernel_launcher.py:30: FutureWarning: Dropping of nuisance columns in DataFrame reductions (with 'numeric_only=None') is deprecated; in a future version this will raise TypeError.  Select only valid columns before calling the reduction.\n",
      "/packages/7x/anaconda3/5.3.0/lib/python3.7/site-packages/ipykernel_launcher.py:31: FutureWarning: Dropping of nuisance columns in DataFrame reductions (with 'numeric_only=None') is deprecated; in a future version this will raise TypeError.  Select only valid columns before calling the reduction.\n",
      "/packages/7x/anaconda3/5.3.0/lib/python3.7/site-packages/ipykernel_launcher.py:32: FutureWarning: Dropping of nuisance columns in DataFrame reductions (with 'numeric_only=None') is deprecated; in a future version this will raise TypeError.  Select only valid columns before calling the reduction.\n",
      "/packages/7x/anaconda3/5.3.0/lib/python3.7/site-packages/ipykernel_launcher.py:33: FutureWarning: Dropping of nuisance columns in DataFrame reductions (with 'numeric_only=None') is deprecated; in a future version this will raise TypeError.  Select only valid columns before calling the reduction.\n"
     ]
    }
   ],
   "source": [
    "\n",
    "# model_evals = {\n",
    "#     'MedDialog GPT2':'eval_gpt2_test_combined_1018_v',\n",
    "#     'MedDialog DialoGPT':'eval_dialoggpt_test_combined_1018_v'\n",
    "# }\n",
    "# for j in model_evals:\n",
    "#     print('\\n','*'*10, j, '*'*10)\n",
    "#     dmean = 0\n",
    "#     smean = 0\n",
    "#     tmean = 0\n",
    "#     tinmean = 0\n",
    "#     dsmean = 0\n",
    "#     senmean = 0\n",
    "#     recall = 0\n",
    "#     f1 = 0\n",
    "#     for i in range(3):\n",
    "#         path_to_results = 'eval_results/eval_1018_C/'+ model_evals[j] +str(i)+'.csv'\n",
    "#         path_to_output =  'eval_results/eval_1018_C/analysis/'+ model_evals[j] +str(i)+'_weighted.csv'\n",
    "        \n",
    "#         df_res = pd.read_csv(path_to_results)\n",
    "#         a,b,c,d = precision_recall_fscore_support([1]*len(df_res),df_res['score'], average='macro')\n",
    "#         recall += b\n",
    "#         f1 += c\n",
    "        \n",
    "#         df = get_final_scores(path_to_results, path_to_output)\n",
    "# #         print(df.mean())\n",
    "#         dmean += df.mean()['diag_score']\n",
    "#         smean += df.mean()['sym_score']\n",
    "#         dsmean += df.mean()['avg_diag_sym_score']\n",
    "#         senmean += df.mean()['sentence_score']\n",
    "#         tmean += df.mean()['trust_score_corrdiag']\n",
    "\n",
    "    \n",
    "#     print('mean_diag_score', round(dmean/3,6))\n",
    "#     print('mean_sym_score', round(smean/3,6))\n",
    "#     print('avg_diag_sym_score', round(dsmean/3,6))\n",
    "#     print('avg sentence score:', round(senmean/3,6))\n",
    "#     print('trust_score_correct_diagnosis:', round(tmean/3,6))\n",
    "#     print('recall', round( recall/3,6))\n",
    "#     print('f1', round(f1/3,6))"
   ]
  },
  {
   "cell_type": "markdown",
   "metadata": {},
   "source": [
    "## Recall, F1"
   ]
  },
  {
   "cell_type": "code",
   "execution_count": 11,
   "metadata": {},
   "outputs": [
    {
     "name": "stderr",
     "output_type": "stream",
     "text": [
      "/packages/7x/anaconda3/5.3.0/lib/python3.7/site-packages/sklearn/metrics/_classification.py:1318: UndefinedMetricWarning: Recall and F-score are ill-defined and being set to 0.0 in labels with no true samples. Use `zero_division` parameter to control this behavior.\n",
      "  _warn_prf(average, modifier, msg_start, len(result))\n"
     ]
    },
    {
     "name": "stdout",
     "output_type": "stream",
     "text": [
      "recall 0.2141814936828321\n",
      "f1 0.29985883059177193\n"
     ]
    },
    {
     "name": "stderr",
     "output_type": "stream",
     "text": [
      "/packages/7x/anaconda3/5.3.0/lib/python3.7/site-packages/sklearn/metrics/_classification.py:1318: UndefinedMetricWarning: Recall and F-score are ill-defined and being set to 0.0 in labels with no true samples. Use `zero_division` parameter to control this behavior.\n",
      "  _warn_prf(average, modifier, msg_start, len(result))\n",
      "/packages/7x/anaconda3/5.3.0/lib/python3.7/site-packages/sklearn/metrics/_classification.py:1318: UndefinedMetricWarning: Recall and F-score are ill-defined and being set to 0.0 in labels with no true samples. Use `zero_division` parameter to control this behavior.\n",
      "  _warn_prf(average, modifier, msg_start, len(result))\n"
     ]
    }
   ],
   "source": [
    "recall = 0\n",
    "f1 = 0\n",
    "for i in range(3):\n",
    "    path_to_results = 'eval_results/dialog_ft_gpt2_para_0617_v'+str(i)+'.csv'\n",
    "    path_to_output = '...'\n",
    "    df = pd.read_csv(path_to_results)\n",
    "#     df = df[df['diag_score']==0]\n",
    "    a,b,c,d = precision_recall_fscore_support([1]*len(df),df['score'], average='macro')\n",
    "    recall += b\n",
    "    f1 += c\n",
    "    \n",
    "print('recall', recall/3)\n",
    "print('f1', f1/3)\n",
    "    \n",
    "    "
   ]
  },
  {
   "cell_type": "markdown",
   "metadata": {},
   "source": [
    "## DialoGPT Fine-tuned"
   ]
  },
  {
   "cell_type": "code",
   "execution_count": 14,
   "metadata": {},
   "outputs": [],
   "source": [
    "path_to_results = 'mdd_results/test_evals/0506/dialog_ft_dgpt_devtest_eval_0506.csv'\n",
    "path_to_output = 'mdd_results/test_evals/0506/final/dialog_ft_dgpt_devtest_eval_0506.csv'\n",
    "df = get_final_scores(path_to_results, path_to_output)\n",
    "df.mean()"
   ]
  },
  {
   "cell_type": "markdown",
   "metadata": {},
   "source": [
    "## GPT2 Fine-tuned"
   ]
  },
  {
   "cell_type": "code",
   "execution_count": 15,
   "metadata": {
    "scrolled": true
   },
   "outputs": [],
   "source": [
    "# path_to_results = 'mdd_results/test_evals/0506/dialog_ft_gpt2_devtest_eval_0506.csv'\n",
    "# path_to_output = 'mdd_results/test_evals/0506/final/dialog_ft_gpt2_devtest_eval_0506.csv'\n",
    "# df = get_final_scores(path_to_results, path_to_output)\n",
    "# df.mean()"
   ]
  },
  {
   "cell_type": "markdown",
   "metadata": {},
   "source": [
    "# Experiment Analysis"
   ]
  },
  {
   "cell_type": "markdown",
   "metadata": {},
   "source": [
    "## Thresholds vs Trust Scores"
   ]
  },
  {
   "cell_type": "code",
   "execution_count": 7,
   "metadata": {},
   "outputs": [],
   "source": [
    "# def get_trust_means():\n",
    "\n",
    "#     for j in model_evals:\n",
    "#         tmean = 0\n",
    "#         tinmean = 0\n",
    "#         for i in range(3):\n",
    "#             path_to_results = 'eval_results/temp1/'+ model_evals[j] +str(i)+'.csv'\n",
    "#             path_to_output = '...'\n",
    "#             df = get_final_scores(path_to_results, thresh)\n",
    "#         #     print(df.mean())\n",
    "#             tmean += df.mean()['diag_score']\n",
    "#             tinmean += df.mean()['sym_score']\n",
    "     \n",
    "#     return tmean/3, tinmean/3    "
   ]
  },
  {
   "cell_type": "code",
   "execution_count": 14,
   "metadata": {},
   "outputs": [
    {
     "name": "stdout",
     "output_type": "stream",
     "text": [
      "Model: GPT-2\n",
      "[0.227, 0.224, 0.201, 0.174, 0.126, 0.048, 0.024, 0.006, 0.006, 0.0]\n",
      "Model: DialoGPT\n",
      "[0.43, 0.421, 0.387, 0.313, 0.209, 0.045, 0.023, 0.011, 0.011, 0.0]\n"
     ]
    },
    {
     "data": {
      "image/png": "[encoded data removed]",
      "text/plain": [
       "<Figure size 720x504 with 1 Axes>"
      ]
     },
     "metadata": {
      "needs_background": "light"
     },
     "output_type": "display_data"
    }
   ],
   "source": [
    "import glob, os\n",
    "import matplotlib.pyplot as plt\n",
    "\n",
    "csv_files = glob.glob(os.path.join('eval_results/temp1', \"*.csv\"))\n",
    "\n",
    "model_evals = {\n",
    "        'GPT-2':'dialog_ft_gpt2_devtest_eval_temp1_0604_v',\n",
    "        'DialoGPT':'dialog_ft_dgpt_devtest_eval_temp1_0604_v'\n",
    "    }\n",
    "\n",
    "threshs = [0, 0.1, 0.2, 0.3, 0.4, 0.6, 0.7, 0.8, 0.9, 1]\n",
    "path_to_output = './'\n",
    "\n",
    "m_incorr = []\n",
    "m_corr = []\n",
    "# legend = ['DialoGPT FT', 'GPT FT']\n",
    "\n",
    "# f, ax1 = plt.subplots(1, 2, figsize=(10,5))\n",
    "plt.figure(figsize=(10, 7))\n",
    "\n",
    "flag = 0\n",
    "for i in model_evals:\n",
    "    print('Model:', i)\n",
    "    trust_corr = [0]*len(threshs)\n",
    "    \n",
    "    for j in range(3):\n",
    "\n",
    "        temp_corr = []\n",
    "\n",
    "        for thresh in threshs:\n",
    "            scr = get_final_scores('eval_results/temp1/'+model_evals[i]+str(j)+'.csv', path_to_output, thresh).mean()['trust_score_corrdiag']\n",
    "            temp_corr.append(scr)\n",
    "        \n",
    "        trust_corr = [v+temp_corr[k] for k,v in enumerate(trust_corr)]\n",
    "        \n",
    "    trust_corr = [round(k/3, 3) for k in trust_corr]\n",
    "    print(trust_corr)\n",
    "    if flag == 0:\n",
    "        plt.plot(threshs, trust_corr, label = i, linewidth = 3, linestyle = 'dashed')\n",
    "        flag = 1\n",
    "    else:\n",
    "        plt.plot(threshs, trust_corr, label = i, linewidth = 3)\n",
    "        \n",
    "    m_corr.append(trust_corr)\n",
    "\n",
    "# plt.title('Threshold vs Trust')\n",
    "\n",
    "plt.xlabel('Threshold', labelpad = 15, fontsize=25)\n",
    "plt.ylabel('$\\mathcal{T}_{score}$', labelpad = 15, fontsize=30)\n",
    "plt.rc('font', size=12)\n",
    "plt.rc('axes', titlesize=22)\n",
    "plt.rc('axes', labelsize=22)\n",
    "plt.rc('xtick', labelsize=25)\n",
    "plt.rc('ytick', labelsize=25)\n",
    "plt.rc('legend', fontsize=20)\n",
    "plt.legend()\n",
    "\n",
    "plt.savefig('lineplot_results.pdf', bbox_inches='tight')"
   ]
  },
  {
   "cell_type": "code",
   "execution_count": 18,
   "metadata": {},
   "outputs": [],
   "source": [
    "# # import glob, os\n",
    "# # import matplotlib.pyplot as plt\n",
    "\n",
    "# # csv_files = glob.glob(os.path.join('eval_results/temp1', \"*.csv\"))\n",
    "\n",
    "# # model_evals = {\n",
    "# #         'MedDialog GPT2':'dialog_ft_gpt2_devtest_eval_temp1_0604_v',\n",
    "# #         'MedDialog DialoGPT':'dialog_ft_dgpt_devtest_eval_temp1_0604_v'\n",
    "# #     }\n",
    "\n",
    "# # threshs = [0.1, 0.2, 0.3, 0.4, 0.6, 0.7, 0.8, 0.9, 1]\n",
    "\n",
    "# # m_incorr = []\n",
    "# # m_corr = []\n",
    "# # legend = ['DialoGPT FT', 'GPT FT', 'DialoGPT Vanilla', 'GPT Vanilla']\n",
    "\n",
    "# # # f, (ax1, ax2) = plt.subplots(1, 2, figsize=(10,5))\n",
    "\n",
    "# # for i in model_evals:\n",
    "# #     trust_corr = []\n",
    "    \n",
    "# #     for i in range(3):\n",
    "\n",
    "# #         temp_corr = []\n",
    "\n",
    "# #         for thresh in threshs:\n",
    "# #             df = get_final_scores(i, thresh)\n",
    "# #             trust_corr.append(df.mean()['trust_score_corrdiag'])\n",
    "# #             trust_incorr.append(df.mean()['trust_score_incorr_diag'])\n",
    "\n",
    "# #     ax1.plot(threshs, trust_corr)\n",
    "# #     ax2.plot(threshs, trust_incorr)\n",
    "# #     m_incorr.append(trust_incorr)\n",
    "# #     m_corr.append(trust_corr)\n",
    "# # sxs\n",
    "# # ax1.set_title('Threshold vs Trust correct diagnosied')\n",
    "# # ax1.set_xlabel('threshold')\n",
    "# # ax1.set_ylabel('trust correct diagnosed')\n",
    "\n",
    "# # # ax2.set_xlabel('threshold')\n",
    "# # # ax2.set_ylabel('trust incorrect diagnosed')\n",
    "# # # ax2.set_title('Threshold vs Trust incorrect diagnosed')\n",
    "\n",
    "# # plt.legend(legend)\n",
    "\n",
    "# # plt.show()\n",
    "\n",
    "\n",
    "# import glob, os\n",
    "# import matplotlib.pyplot as plt\n",
    "\n",
    "# threshs = [0.1, 0.2, 0.3, 0.4, 0.6, 0.7, 0.8]\n",
    "\n",
    "# trust_incorr = []\n",
    "# trust_corr = []\n",
    "# # legend = ['DialoGPT FT', 'GPT FT', 'DialoGPT Vanilla', 'GPT Vanilla']\n",
    "\n",
    "# model_evals = {\n",
    "# #         'Vanilla GPT2':'dialog_noft_gpt2_devtest_eval_temp2_0510_v',\n",
    "#         'MedDialog GPT2':'dialog_ft_gpt2_devtest_eval_temp1_0604_v',\n",
    "# #         'Vanilla DialoGPT':'dialog_noft_dgpt_devtest_eval_temp2_0510_v',\n",
    "#         'MedDialog DialoGPT':'dialog_ft_dgpt_devtest_eval_temp1_0604_v'\n",
    "#     }\n",
    "    \n",
    "# f, (ax1, ax2) = plt.subplots(1, 2, figsize=(10,5))\n",
    "\n",
    "\n",
    "# for thresh in threshs:\n",
    "#     t, tinc = get_trust_means()\n",
    "#     trust_corr.append()\n",
    "#     trust_incorr.append(df.mean()['trust_score_incorr_diag'])\n",
    "\n",
    "# ax1.plot(threshs, trust_corr)\n",
    "# ax2.plot(threshs, trust_incorr)\n",
    "# m_incorr.append(trust_incorr)\n",
    "# m_corr.append(trust_corr)\n",
    "    \n",
    "# ax1.set_title('Threshold vs Trust correct diagnosied')\n",
    "# ax1.set_xlabel('threshold')\n",
    "# ax1.set_ylabel('trust correct diagnosed')\n",
    "\n",
    "# ax2.set_xlabel('threshold')\n",
    "# ax2.set_ylabel('trust incorrect diagnosed')\n",
    "# ax2.set_title('Threshold vs Trust incorrect diagnosed')\n",
    "\n",
    "# plt.legend(legend)\n",
    "\n",
    "# plt.show()"
   ]
  },
  {
   "cell_type": "code",
   "execution_count": 46,
   "metadata": {
    "collapsed": true
   },
   "outputs": [
    {
     "data": {
      "text/plain": [
       "[0.0,\n",
       " 0.1,\n",
       " 0.14285714285714285,\n",
       " 0.2,\n",
       " 0.2222222222222222,\n",
       " 0.25,\n",
       " 0.2857142857142857,\n",
       " 0.3,\n",
       " 0.3333333333333333,\n",
       " 0.375,\n",
       " 0.4,\n",
       " 0.42857142857142855,\n",
       " 0.4444444444444444,\n",
       " 0.5,\n",
       " 0.5555555555555556,\n",
       " 0.5714285714285714,\n",
       " 0.6,\n",
       " 0.625,\n",
       " 0.6666666666666666,\n",
       " 0.7,\n",
       " 0.7142857142857143,\n",
       " 0.75,\n",
       " 0.8]"
      ]
     },
     "execution_count": 46,
     "metadata": {},
     "output_type": "execute_result"
    }
   ],
   "source": [
    "sorted(df.sym_score.unique())"
   ]
  },
  {
   "cell_type": "markdown",
   "metadata": {},
   "source": []
  },
  {
   "cell_type": "code",
   "execution_count": 55,
   "metadata": {
    "collapsed": true
   },
   "outputs": [
    {
     "name": "stdout",
     "output_type": "stream",
     "text": [
      "[0.42857143 0.4        0.25       0.5        0.2        0.44444444\n",
      " 0.28571429 0.33333333 0.6        0.66666667 0.         0.55555556\n",
      " 0.1        0.375      0.22222222 0.125      0.3        0.14285714\n",
      " 0.16666667]\n"
     ]
    },
    {
     "data": {
      "text/plain": [
       "<AxesSubplot:>"
      ]
     },
     "execution_count": 55,
     "metadata": {},
     "output_type": "execute_result"
    },
    {
     "data": {
      "image/png": "[encoded data removed]",
      "text/plain": [
       "<Figure size 432x288 with 1 Axes>"
      ]
     },
     "metadata": {
      "needs_background": "light"
     },
     "output_type": "display_data"
    }
   ],
   "source": [
    "print((df['sym_score'].unique()))\n",
    "df['sym_score'].hist()"
   ]
  },
  {
   "cell_type": "markdown",
   "metadata": {},
   "source": [
    "## Incorrectly Diagnosed Disease Distribution"
   ]
  },
  {
   "cell_type": "code",
   "execution_count": 87,
   "metadata": {},
   "outputs": [],
   "source": [
    "# Calculating final scores\n",
    "\n",
    "def get_final_scores(path_to_results, thresh):\n",
    "    res_df = pd.read_csv(path_to_results)\n",
    "    res_df['avg_sen_score'] = res_df['dialog_id'].groupby(res_df['dialog_id']).transform('count')\n",
    "    res_df = res_df.drop_duplicates(subset='dialog_id', keep='last')\n",
    "\n",
    "    res_df['trust_score_corrdiag'] = res_df.apply(lambda x: get_trust(x, 1, thresh), axis=1)\n",
    "    res_df['trust_score_incorr_diag'] = res_df.apply(lambda x: get_trust(x, 0, thresh), axis=1)\n",
    "#     res_df['dialog_id'] = res_df['dialog_id'].apply(lambda x: int(x))\n",
    "    res_df = res_df.merge(data_df[['remaining_sym', 'disease_tag', 'dialog_id']], on = 'dialog_id')\n",
    "\n",
    "#     res_df = res_df[['dialog_id','avg_sen_score','sym_score','diag_score','trust_score_corrdiag','trust_score_incorr_diag']]\n",
    "#     res_df.to_csv(path_to_output)\n",
    "    return res_df\n",
    "\n",
    "def get_trust(row, diag, thresh):\n",
    "    if row['diag_score'] != diag:\n",
    "        return 0\n",
    "    if row['sym_score'] < thresh:\n",
    "        return 0\n",
    "    return 1\n",
    "\n"
   ]
  },
  {
   "cell_type": "code",
   "execution_count": 93,
   "metadata": {},
   "outputs": [
    {
     "data": {
      "text/plain": [
       "array(['Esophagitis', 'Enteritis', 'Asthma', 'Coronary heart disease',\n",
       "       'Pneumonia', 'Rhinitis', 'Thyroiditis', 'Traumatic brain injury',\n",
       "       'Dermatitis', 'External otitis', 'Conjunctivitis', 'Mastitis'],\n",
       "      dtype=object)"
      ]
     },
     "execution_count": 93,
     "metadata": {},
     "output_type": "execute_result"
    }
   ],
   "source": []
  },
  {
   "cell_type": "code",
   "execution_count": 152,
   "metadata": {
    "scrolled": true
   },
   "outputs": [
    {
     "data": {
      "image/png": "[encoded data removed]",
      "text/plain": [
       "<Figure size 1944x432 with 1 Axes>"
      ]
     },
     "metadata": {
      "needs_background": "light"
     },
     "output_type": "display_data"
    }
   ],
   "source": [
    "import numpy as np\n",
    "fig, ax = plt.subplots(figsize=(27,6))\n",
    "total_dis_dict = dict(data_df.disease_tag.value_counts())\n",
    "labels = total_dis_dict.keys()\n",
    "x = np.arange(len(labels))\n",
    "w = 0\n",
    "legend = ['DialoGPT FT', 'GPT FT', 'DialoGPT Vanilla', 'GPT Vanilla']\n",
    "clr = ['darkseagreen','pink','khaki','powderblue']\n",
    "\n",
    "for k,j in enumerate(csv_files):\n",
    "    df = get_final_scores(j, 0.2)\n",
    "    dis_incorr_dict = dict(df[df['diag_score']==0].disease_tag.value_counts())\n",
    "    dis_incorr_dict_pct = {}\n",
    "    for i in labels:\n",
    "        if i in dis_incorr_dict.keys():\n",
    "            dis_incorr_dict_pct[i] = dis_incorr_dict[i]/total_dis_dict[i]\n",
    "        else:\n",
    "            dis_incorr_dict_pct[i] = 0\n",
    "\n",
    "    ax.bar(x+w, dis_incorr_dict_pct.values(), width = 0.22, label=legend[k], color=clr[k])\n",
    "    w += 0.23\n",
    "\n",
    "plt.title('Incorrectly diagnosed disease percentages')\n",
    "plt.xticks(x, labels, rotation=45)\n",
    "plt.legend(legend)\n",
    "plt.show()"
   ]
  },
  {
   "cell_type": "code",
   "execution_count": 83,
   "metadata": {},
   "outputs": [
    {
     "data": {
      "text/html": [
       "<div>\n",
       "<style scoped>\n",
       "    .dataframe tbody tr th:only-of-type {\n",
       "        vertical-align: middle;\n",
       "    }\n",
       "\n",
       "    .dataframe tbody tr th {\n",
       "        vertical-align: top;\n",
       "    }\n",
       "\n",
       "    .dataframe thead th {\n",
       "        text-align: right;\n",
       "    }\n",
       "</style>\n",
       "<table border=\"1\" class=\"dataframe\">\n",
       "  <thead>\n",
       "    <tr style=\"text-align: right;\">\n",
       "      <th></th>\n",
       "      <th>input</th>\n",
       "      <th>sys_out</th>\n",
       "      <th>score</th>\n",
       "      <th>diag_score</th>\n",
       "      <th>dialog_id</th>\n",
       "      <th>sym_score</th>\n",
       "      <th>avg_sen_score</th>\n",
       "      <th>trust_score_corrdiag</th>\n",
       "      <th>trust_score_incorr_diag</th>\n",
       "    </tr>\n",
       "  </thead>\n",
       "  <tbody>\n",
       "    <tr>\n",
       "      <th>6</th>\n",
       "      <td>Patient: Thank you Doctor, Doctor:?</td>\n",
       "      <td>I believe you are having from Esopharynx dis...</td>\n",
       "      <td>0</td>\n",
       "      <td>1</td>\n",
       "      <td>1.0</td>\n",
       "      <td>0.428571</td>\n",
       "      <td>7</td>\n",
       "      <td>1</td>\n",
       "      <td>0</td>\n",
       "    </tr>\n",
       "    <tr>\n",
       "      <th>16</th>\n",
       "      <td>Patient: Thank you Doctor, Doctor:?</td>\n",
       "      <td>.    and shortestion?  and mucous membranes?</td>\n",
       "      <td>0</td>\n",
       "      <td>0</td>\n",
       "      <td>2.0</td>\n",
       "      <td>0.400000</td>\n",
       "      <td>10</td>\n",
       "      <td>0</td>\n",
       "      <td>1</td>\n",
       "    </tr>\n",
       "    <tr>\n",
       "      <th>20</th>\n",
       "      <td>Patient: Thank you Doctor, Doctor:?</td>\n",
       "      <td></td>\n",
       "      <td>0</td>\n",
       "      <td>0</td>\n",
       "      <td>3.0</td>\n",
       "      <td>0.250000</td>\n",
       "      <td>4</td>\n",
       "      <td>0</td>\n",
       "      <td>1</td>\n",
       "    </tr>\n",
       "    <tr>\n",
       "      <th>30</th>\n",
       "      <td>Patient: Thank you Doctor, Doctor:?</td>\n",
       "      <td>i believe you have</td>\n",
       "      <td>0</td>\n",
       "      <td>0</td>\n",
       "      <td>4.0</td>\n",
       "      <td>0.500000</td>\n",
       "      <td>10</td>\n",
       "      <td>0</td>\n",
       "      <td>1</td>\n",
       "    </tr>\n",
       "    <tr>\n",
       "      <th>40</th>\n",
       "      <td>Patient: No, I don't have that, Doctor: ?</td>\n",
       "      <td>�</td>\n",
       "      <td>0</td>\n",
       "      <td>0</td>\n",
       "      <td>5.0</td>\n",
       "      <td>0.200000</td>\n",
       "      <td>10</td>\n",
       "      <td>0</td>\n",
       "      <td>1</td>\n",
       "    </tr>\n",
       "    <tr>\n",
       "      <th>...</th>\n",
       "      <td>...</td>\n",
       "      <td>...</td>\n",
       "      <td>...</td>\n",
       "      <td>...</td>\n",
       "      <td>...</td>\n",
       "      <td>...</td>\n",
       "      <td>...</td>\n",
       "      <td>...</td>\n",
       "      <td>...</td>\n",
       "    </tr>\n",
       "    <tr>\n",
       "      <th>1675</th>\n",
       "      <td>Patient: Thank you Doctor, Doctor:?</td>\n",
       "      <td>i believe you are having from Enteritis.</td>\n",
       "      <td>0</td>\n",
       "      <td>0</td>\n",
       "      <td>231.0</td>\n",
       "      <td>0.500000</td>\n",
       "      <td>8</td>\n",
       "      <td>0</td>\n",
       "      <td>1</td>\n",
       "    </tr>\n",
       "    <tr>\n",
       "      <th>1677</th>\n",
       "      <td>Patient: Thank you Doctor, Doctor:?</td>\n",
       "      <td></td>\n",
       "      <td>0</td>\n",
       "      <td>1</td>\n",
       "      <td>232.0</td>\n",
       "      <td>0.000000</td>\n",
       "      <td>2</td>\n",
       "      <td>0</td>\n",
       "      <td>0</td>\n",
       "    </tr>\n",
       "    <tr>\n",
       "      <th>1682</th>\n",
       "      <td>Patient: Thank you Doctor, Doctor:?</td>\n",
       "      <td></td>\n",
       "      <td>0</td>\n",
       "      <td>0</td>\n",
       "      <td>233.0</td>\n",
       "      <td>0.400000</td>\n",
       "      <td>5</td>\n",
       "      <td>0</td>\n",
       "      <td>1</td>\n",
       "    </tr>\n",
       "    <tr>\n",
       "      <th>1690</th>\n",
       "      <td>Patient: Thank you Doctor, Doctor:?</td>\n",
       "      <td>�</td>\n",
       "      <td>0</td>\n",
       "      <td>1</td>\n",
       "      <td>234.0</td>\n",
       "      <td>0.375000</td>\n",
       "      <td>8</td>\n",
       "      <td>1</td>\n",
       "      <td>0</td>\n",
       "    </tr>\n",
       "    <tr>\n",
       "      <th>1698</th>\n",
       "      <td>Patient: Thank you Doctor, Doctor:?</td>\n",
       "      <td>you have</td>\n",
       "      <td>0</td>\n",
       "      <td>1</td>\n",
       "      <td>235.0</td>\n",
       "      <td>0.500000</td>\n",
       "      <td>8</td>\n",
       "      <td>1</td>\n",
       "      <td>0</td>\n",
       "    </tr>\n",
       "  </tbody>\n",
       "</table>\n",
       "<p>235 rows × 9 columns</p>\n",
       "</div>"
      ],
      "text/plain": [
       "                                          input  \\\n",
       "6           Patient: Thank you Doctor, Doctor:?   \n",
       "16          Patient: Thank you Doctor, Doctor:?   \n",
       "20          Patient: Thank you Doctor, Doctor:?   \n",
       "30          Patient: Thank you Doctor, Doctor:?   \n",
       "40    Patient: No, I don't have that, Doctor: ?   \n",
       "...                                         ...   \n",
       "1675        Patient: Thank you Doctor, Doctor:?   \n",
       "1677        Patient: Thank you Doctor, Doctor:?   \n",
       "1682        Patient: Thank you Doctor, Doctor:?   \n",
       "1690        Patient: Thank you Doctor, Doctor:?   \n",
       "1698        Patient: Thank you Doctor, Doctor:?   \n",
       "\n",
       "                                                sys_out  score  diag_score  \\\n",
       "6       I believe you are having from Esopharynx dis...      0           1   \n",
       "16         .    and shortestion?  and mucous membranes?      0           0   \n",
       "20                                                           0           0   \n",
       "30                                  i believe you have       0           0   \n",
       "40                                                   �       0           0   \n",
       "...                                                 ...    ...         ...   \n",
       "1675           i believe you are having from Enteritis.      0           0   \n",
       "1677                                                         0           1   \n",
       "1682                                                         0           0   \n",
       "1690                                                 �       0           1   \n",
       "1698                                          you have       0           1   \n",
       "\n",
       "      dialog_id  sym_score  avg_sen_score  trust_score_corrdiag  \\\n",
       "6           1.0   0.428571              7                     1   \n",
       "16          2.0   0.400000             10                     0   \n",
       "20          3.0   0.250000              4                     0   \n",
       "30          4.0   0.500000             10                     0   \n",
       "40          5.0   0.200000             10                     0   \n",
       "...         ...        ...            ...                   ...   \n",
       "1675      231.0   0.500000              8                     0   \n",
       "1677      232.0   0.000000              2                     0   \n",
       "1682      233.0   0.400000              5                     0   \n",
       "1690      234.0   0.375000              8                     1   \n",
       "1698      235.0   0.500000              8                     1   \n",
       "\n",
       "      trust_score_incorr_diag  \n",
       "6                           0  \n",
       "16                          1  \n",
       "20                          1  \n",
       "30                          1  \n",
       "40                          1  \n",
       "...                       ...  \n",
       "1675                        1  \n",
       "1677                        0  \n",
       "1682                        1  \n",
       "1690                        0  \n",
       "1698                        0  \n",
       "\n",
       "[235 rows x 9 columns]"
      ]
     },
     "execution_count": 83,
     "metadata": {},
     "output_type": "execute_result"
    }
   ],
   "source": [
    "df"
   ]
  },
  {
   "cell_type": "code",
   "execution_count": 60,
   "metadata": {},
   "outputs": [
    {
     "data": {
      "image/png": "[encoded data removed]",
      "text/plain": [
       "<Figure size 1800x504 with 1 Axes>"
      ]
     },
     "metadata": {
      "needs_background": "light"
     },
     "output_type": "display_data"
    }
   ],
   "source": [
    "total_dis_dict = dict(df.disease_tag.value_counts())\n",
    "dis_incorr_dict = dict(df[df['diag_score']==0].disease_tag.value_counts())\n",
    "dis_incorr_dict_pct = {}\n",
    "for i in dis_incorr_dict:\n",
    "    dis_incorr_dict_pct[i] = dis_incorr_dict[i]/total_dis_dict[i]\n",
    "\n",
    "plt.figure(figsize=(25,7))    \n",
    "plt.bar(dis_incorr_dict_pct.keys(), dis_incorr_dict_pct.values())\n",
    "plt.title('Incorrectly diagnosed disease percentages')\n",
    "plt.show()"
   ]
  },
  {
   "cell_type": "markdown",
   "metadata": {},
   "source": [
    "## Train Data Disease Distribution"
   ]
  },
  {
   "cell_type": "code",
   "execution_count": 66,
   "metadata": {},
   "outputs": [
    {
     "data": {
      "image/png": "[encoded data removed]",
      "text/plain": [
       "<Figure size 1800x504 with 1 Axes>"
      ]
     },
     "metadata": {
      "needs_background": "light"
     },
     "output_type": "display_data"
    }
   ],
   "source": [
    "train_df = pd.read_pickle('MDD_dataset/train.pk')\n",
    "train_df = pd.DataFrame(train_df)\n",
    "dis_count = dict(train_df.disease_tag.value_counts())\n",
    "\n",
    "plt.figure(figsize=(25,7))    \n",
    "plt.bar(dis_count.keys(), dis_count.values())\n",
    "plt.title('Train Data disease distribution')\n",
    "plt.show()"
   ]
  },
  {
   "cell_type": "code",
   "execution_count": null,
   "metadata": {},
   "outputs": [],
   "source": []
  },
  {
   "cell_type": "code",
   "execution_count": 25,
   "metadata": {},
   "outputs": [],
   "source": [
    "# Calculating num sentences wise final scores\n",
    "\n",
    "def get_final_scores(path_to_results, num_sentences):\n",
    "    res_df = pd.read_csv(path_to_results)\n",
    "    res_df = res_df.merge(data_df[['remaining_sym', 'disease_tag', 'dialog_id']], on = 'dialog_id')\n",
    "    \n",
    "    res_df['sentence_score'] = res_df['dialog_id'].groupby(res_df['dialog_id']).transform('count')\n",
    "    \n",
    "#     res_df = get_num_sen(num_sentences, res_df)\n",
    "    \n",
    "    res_df['avg_diag_sym_score'] = res_df.groupby(res_df['dialog_id'])['dialog_sym_score'].transform('sum')\n",
    "    res_df['avg_diag_sym_score'] = res_df.apply(lambda x: x['avg_diag_sym_score']/len(x['remaining_sym']), axis=1)\n",
    "    \n",
    "    res_df['sym_score'] = res_df['score'].groupby(res_df['dialog_id']).transform('sum')\n",
    "    res_df['sym_score'] = res_df.apply(lambda x: x['sym_score']/num_sentences-1 if num_sentences!=10 else x['sym_score']/9, axis=1)\n",
    "    res_df['weighted_sym_score'] = res_df['sym_score'].apply(lambda x: x*min(num_sentences-1, )/max(num_sentences-1, )) \n",
    "    res_df = res_df.drop_duplicates(subset='dialog_id', keep='last')\n",
    "    res_df['trust_score_corrdiag'] = res_df.apply(lambda x: get_trust(x, 1), axis=1)\n",
    "    res_df['trust_score_incorr_diag'] = res_df.apply(lambda x: get_trust(x, 0), axis=1)\n",
    "    res_df = res_df[['dialog_id','sentence_score','sym_score','diag_score','avg_diag_sym_score','trust_score_corrdiag','trust_score_incorr_diag']]\n",
    "    return res_df\n",
    "\n",
    "def get_trust(row, diag):\n",
    "    if row['diag_score'] != diag:\n",
    "        return 0\n",
    "    if row['sym_score'] < 0.4:\n",
    "        return 0\n",
    "    return 1\n",
    "\n",
    "def get_num_sen(num_sentences, df):\n",
    "    ls = []\n",
    "    for i in df.dialog_id.unique():\n",
    "        if len(df[df['dialog_id'] == i])-1 < num_sentences:\n",
    "            pass\n",
    "        else:\n",
    "            ls.append(df[df['dialog_id'] == i][:num_sentences])\n",
    "    return pd.concat(ls, ignore_index=True)"
   ]
  },
  {
   "cell_type": "code",
   "execution_count": 27,
   "metadata": {},
   "outputs": [
    {
     "name": "stdout",
     "output_type": "stream",
     "text": [
      "Symptom score for 1 dialog sentences: 0.7021276595744681\n",
      "Symptom score for 2 dialog sentences: 0.35319148936170214\n",
      "Symptom score for 3 dialog sentences: 0.2617702448210927\n",
      "Symptom score for 4 dialog sentences: 0.23076923076923078\n",
      "Symptom score for 5 dialog sentences: 0.17435897435897443\n",
      "Symptom score for 6 dialog sentences: 0.14583333333333334\n",
      "Symptom score for 7 dialog sentences: 0.1275510204081632\n",
      "Symptom score for 8 dialog sentences: 0.11\n",
      "Symptom score for 9 dialog sentences: 0.09090909090909093\n"
     ]
    }
   ],
   "source": [
    "path_to_results = 'eval_results/dialog_noft_dgpt_devtest_eval_temp2_0510_v0.csv'\n",
    "vanilla_dgpt = []\n",
    "for i in range(1,10):\n",
    "    df = get_final_scores(path_to_results, i)\n",
    "    print('Symptom score for', i, 'dialog sentences:', df.mean()['sym_score'])\n",
    "    vanilla_dgpt.append(df.mean()['sym_score'])"
   ]
  },
  {
   "cell_type": "code",
   "execution_count": 28,
   "metadata": {},
   "outputs": [
    {
     "name": "stdout",
     "output_type": "stream",
     "text": [
      "Symptom score for 1 dialog sentences: 0.6467889908256881\n",
      "Symptom score for 2 dialog sentences: 0.7382075471698113\n",
      "Symptom score for 3 dialog sentences: 0.5970149253731346\n",
      "Symptom score for 4 dialog sentences: 0.6067708333333334\n",
      "Symptom score for 5 dialog sentences: 0.5565217391304346\n",
      "Symptom score for 6 dialog sentences: 0.5129107981220656\n",
      "Symptom score for 7 dialog sentences: 0.47163865546218475\n",
      "Symptom score for 8 dialog sentences: 0.41875\n",
      "Symptom score for 9 dialog sentences: 0.3751375137513748\n"
     ]
    }
   ],
   "source": [
    "path_to_results = 'eval_results/dialog_noft_gpt2_devtest_eval_temp2_0510_v0.csv'\n",
    "vanilla_gpt2 = []\n",
    "for i in range(1,10):\n",
    "    df = get_final_scores(path_to_results, i)\n",
    "    print('Symptom score for', i, 'dialog sentences:', df.mean()['sym_score'])\n",
    "    vanilla_gpt2.append(df.mean()['sym_score'])"
   ]
  },
  {
   "cell_type": "code",
   "execution_count": 29,
   "metadata": {},
   "outputs": [
    {
     "name": "stdout",
     "output_type": "stream",
     "text": [
      "Symptom score for 1 dialog sentences: 0.641860465116279\n",
      "Symptom score for 2 dialog sentences: 0.46634615384615385\n",
      "Symptom score for 3 dialog sentences: 0.5129533678756479\n",
      "Symptom score for 4 dialog sentences: 0.42473118279569894\n",
      "Symptom score for 5 dialog sentences: 0.415748031496063\n",
      "Symptom score for 6 dialog sentences: 0.39138576779026196\n",
      "Symptom score for 7 dialog sentences: 0.34161490683229784\n",
      "Symptom score for 8 dialog sentences: 0.31862745098039214\n",
      "Symptom score for 9 dialog sentences: 0.28042328042328046\n"
     ]
    }
   ],
   "source": [
    "path_to_results = 'eval_results/dialog_ft_dgpt_devtest_eval_temp2_0510_v0.csv'\n",
    "meddialog_dgpt = []\n",
    "for i in range(1,10):\n",
    "    df = get_final_scores(path_to_results, i)\n",
    "    print('Symptom score for', i, 'dialog sentences:', df.mean()['sym_score'])\n",
    "    meddialog_dgpt.append(df.mean()['sym_score'])"
   ]
  },
  {
   "cell_type": "code",
   "execution_count": 31,
   "metadata": {},
   "outputs": [
    {
     "name": "stdout",
     "output_type": "stream",
     "text": [
      "Symptom score for 1 dialog sentences: 0.6018518518518519\n",
      "Symptom score for 2 dialog sentences: 0.44607843137254904\n",
      "Symptom score for 3 dialog sentences: 0.5617977528089891\n",
      "Symptom score for 4 dialog sentences: 0.5633116883116883\n",
      "Symptom score for 5 dialog sentences: 0.5235294117647061\n",
      "Symptom score for 6 dialog sentences: 0.48205128205128217\n",
      "Symptom score for 7 dialog sentences: 0.44642857142857123\n",
      "Symptom score for 8 dialog sentences: 0.43487394957983194\n",
      "Symptom score for 9 dialog sentences: 0.4166666666666663\n"
     ]
    }
   ],
   "source": [
    "path_to_results = 'eval_results/dialog_ft_gpt2_devtest_eval_temp2_0510_v0.csv'\n",
    "meddialog_gpt2 = []\n",
    "for i in range(1,10):\n",
    "    df = get_final_scores(path_to_results, i)\n",
    "    print('Symptom score for', i, 'dialog sentences:', df.mean()['sym_score'])\n",
    "    meddialog_gpt2.append(df.mean()['sym_score'])"
   ]
  },
  {
   "cell_type": "code",
   "execution_count": 34,
   "metadata": {},
   "outputs": [
    {
     "data": {
      "image/png": "[encoded data removed]",
      "text/plain": [
       "<Figure size 432x288 with 1 Axes>"
      ]
     },
     "metadata": {
      "needs_background": "light"
     },
     "output_type": "display_data"
    }
   ],
   "source": [
    "import matplotlib.pyplot as plt\n",
    "models = {\n",
    "    'Vanilla GPT2':vanilla_gpt2,\n",
    "    'MedDialog GPT2':meddialog_gpt2,\n",
    "    'Vanilla DialoGPT':vanilla_dgpt,\n",
    "    'MedDialog DialoGPT':meddialog_dgpt\n",
    "}\n",
    "for i in models:\n",
    "    plt.plot(range(1,6), models[i][:5])\n",
    "    plt.legend(models.keys())\n",
    "plt.show()"
   ]
  },
  {
   "cell_type": "code",
   "execution_count": null,
   "metadata": {},
   "outputs": [],
   "source": []
  }
 ],
 "metadata": {
  "kernelspec": {
   "display_name": "Py3-basic",
   "language": "python",
   "name": "python3"
  },
  "language_info": {
   "codemirror_mode": {
    "name": "ipython",
    "version": 3
   },
   "file_extension": ".py",
   "mimetype": "text/x-python",
   "name": "python",
   "nbconvert_exporter": "python",
   "pygments_lexer": "ipython3",
   "version": "3.7.2"
  }
 },
 "nbformat": 4,
 "nbformat_minor": 4
}
